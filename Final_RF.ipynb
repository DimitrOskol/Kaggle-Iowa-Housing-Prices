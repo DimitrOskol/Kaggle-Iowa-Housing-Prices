{
 "cells": [
  {
   "cell_type": "code",
   "execution_count": null,
   "metadata": {},
   "outputs": [],
   "source": [
    "import pandas as pd\n",
    "from sklearn.model_selection import train_test_split\n",
    "from sklearn.impute import SimpleImputer\n",
    "from sklearn.preprocessing import OneHotEncoder\n",
    "from sklearn.preprocessing import LabelEncoder\n",
    "from sklearn.ensemble import RandomForestRegressor\n",
    "from sklearn.metrics import mean_absolute_error"
   ]
  },
  {
   "cell_type": "code",
   "execution_count": null,
   "metadata": {},
   "outputs": [],
   "source": [
    "X = pd.read_csv('iowa_train.csv', index_col='Id')\n",
    "X_test = pd.read_csv('iowa_test.csv', index_col='Id')\n",
    "y = X.SalePrice\n",
    "X.drop(['SalePrice'], axis=1, inplace=True)"
   ]
  },
  {
   "cell_type": "code",
   "execution_count": null,
   "metadata": {},
   "outputs": [],
   "source": [
    "cols_with_missing = [col for col in X.columns if X[col].isnull().any()]\n",
    "test_cols_with_missing = [col for col in X_test.columns if X_test[col].isnull().any()]\n",
    "object_cols = [col for col in X.columns if X[col].dtype == 'object']\n",
    "object_cols_with_missing_nd = pd.merge(pd.DataFrame(object_cols), pd.DataFrame(cols_with_missing), how='inner').values.tolist()\n",
    "object_cols_with_missing = []\n",
    "for col in object_cols_with_missing_nd:\n",
    "    object_cols_with_missing.append(''.join(col))\n",
    "test_object_cols_with_missing_nd = pd.merge(pd.DataFrame(object_cols), pd.DataFrame(test_cols_with_missing), how='inner').values.tolist()\n",
    "test_object_cols_with_missing = []\n",
    "for col in test_object_cols_with_missing_nd:\n",
    "    test_object_cols_with_missing.append(''.join(col))\n",
    "low_cardinality_cols = [col for col in object_cols if X[col].nunique()<10]\n",
    "high_cardinality_cols = [col for col in object_cols if X[col].nunique()>=10]\n",
    "missing_count_X = X[object_cols_with_missing].isnull().sum()\n",
    "cols_alot_missing = missing_count_X[missing_count_X>700].index\n",
    "cols_some_missing = missing_count_X[missing_count_X<700]\n",
    "cols_some_missing = cols_some_missing[cols_some_missing>0].index"
   ]
  },
  {
   "cell_type": "code",
   "execution_count": null,
   "metadata": {},
   "outputs": [],
   "source": [
    "X.drop(cols_alot_missing, axis=1, inplace=True)\n",
    "X_test.drop(cols_alot_missing, axis=1, inplace=True)\n",
    "for col in cols_alot_missing:\n",
    "    test_object_cols_with_missing.remove(col)\n",
    "    low_cardinality_cols.remove(col)"
   ]
  },
  {
   "cell_type": "code",
   "execution_count": null,
   "metadata": {},
   "outputs": [],
   "source": [
    "X.to_excel('X.xlsx')\n",
    "X_test.to_excel('X_test.xlsx')"
   ]
  },
  {
   "cell_type": "code",
   "execution_count": null,
   "metadata": {},
   "outputs": [],
   "source": [
    "mfreq_imputer = SimpleImputer(strategy = 'most_frequent')\n",
    "X_object_imputed = pd.DataFrame(mfreq_imputer.fit_transform(X[cols_some_missing]))\n",
    "X_object_imputed.columns = cols_some_missing\n",
    "X_object_imputed.index = X.index\n",
    "X_without_imputed_cols = X.drop(cols_some_missing, axis=1)\n",
    "X_all =  pd.concat([X_object_imputed, X_without_imputed_cols], axis=1)"
   ]
  },
  {
   "cell_type": "code",
   "execution_count": null,
   "metadata": {},
   "outputs": [],
   "source": [
    "X_test_object_imputed = pd.DataFrame(mfreq_imputer.transform(X_test[cols_some_missing]))\n",
    "X_test_object_imputed.columns = cols_some_missing\n",
    "X_test_object_imputed.index = X_test.index\n",
    "X_test_without_imputed_cols = X_test.drop(cols_some_missing, axis=1)\n",
    "#X_test_without_imputed_cols = X_test_without_imputed_cols.drop(cols_alot_missing)\n",
    "X_test_all =  pd.concat([X_test_object_imputed, X_test_without_imputed_cols], axis=1)"
   ]
  },
  {
   "cell_type": "code",
   "execution_count": null,
   "metadata": {},
   "outputs": [],
   "source": [
    "h=0\n",
    "cols = []\n",
    "for col in cols_some_missing:\n",
    "    if col in test_object_cols_with_missing:\n",
    "        test_object_cols_with_missing.remove(col)\n",
    "        h += 1\n",
    "        cols.append(col)\n",
    "X_test_object_imputed = pd.DataFrame(mfreq_imputer.fit_transform(X_test_all[test_object_cols_with_missing]))\n",
    "X_test_object_imputed.columns = test_object_cols_with_missing\n",
    "X_test_object_imputed.index = X_test.index\n",
    "X_test_without_imputed_cols = X_test_all.drop(test_object_cols_with_missing, axis=1)\n",
    "X_test_all =  pd.concat([X_test_object_imputed, X_test_without_imputed_cols], axis=1)"
   ]
  },
  {
   "cell_type": "code",
   "execution_count": null,
   "metadata": {},
   "outputs": [],
   "source": [
    "aligned_X_all, aligned_X_test_all = X_all.align(X_test_all, join='left', axis=1)"
   ]
  },
  {
   "cell_type": "code",
   "execution_count": null,
   "metadata": {},
   "outputs": [],
   "source": [
    "X_all.to_excel('X_all.xlsx')\n",
    "X_test_all.to_excel('X_test_all.xlsx')"
   ]
  },
  {
   "cell_type": "code",
   "execution_count": null,
   "metadata": {},
   "outputs": [],
   "source": [
    "aligned_X_all.to_excel('aligned_X_all.xlsx')\n",
    "aligned_X_test_all.to_excel('aligned_X_test_all.xlsx')"
   ]
  },
  {
   "cell_type": "code",
   "execution_count": null,
   "metadata": {},
   "outputs": [],
   "source": [
    "OH_encoder = OneHotEncoder(handle_unknown='ignore', sparse=False)\n",
    "OH_X_all = pd.DataFrame(OH_encoder.fit_transform(aligned_X_all[low_cardinality_cols]))\n",
    "OH_X_test_all = pd.DataFrame(OH_encoder.transform(aligned_X_test_all[low_cardinality_cols]))\n",
    "OH_X_all.index = X.index\n",
    "OH_X_test_all.index = X_test.index\n",
    "num_X_all = X_all.drop(low_cardinality_cols, axis=1)\n",
    "num_X_test_all = X_test_all.drop(low_cardinality_cols, axis=1)\n",
    "OH_X = pd.concat([OH_X_all, num_X_all], axis=1)\n",
    "OH_X_test = pd.concat([OH_X_test_all, num_X_test_all], axis=1)"
   ]
  },
  {
   "cell_type": "code",
   "execution_count": null,
   "metadata": {},
   "outputs": [],
   "source": [
    "OH_X.to_excel('OH_X.xlsx')\n",
    "OH_X_test.to_excel('OH_X_test.xlsx')"
   ]
  },
  {
   "cell_type": "code",
   "execution_count": null,
   "metadata": {},
   "outputs": [],
   "source": [
    "aligned_OH_X, aligned_OH_X_test = OH_X.align(OH_X_test, join='left', axis=1)"
   ]
  },
  {
   "cell_type": "code",
   "execution_count": null,
   "metadata": {},
   "outputs": [],
   "source": [
    "label_X = aligned_OH_X.copy()\n",
    "label_X_test = aligned_OH_X_test.copy()\n",
    "label_encoder = LabelEncoder()\n",
    "for col in high_cardinality_cols:\n",
    "    label_X[col] = label_encoder.fit_transform(label_X[col])\n",
    "    label_X_test[col] = label_encoder.transform(label_X_test[col])"
   ]
  },
  {
   "cell_type": "code",
   "execution_count": null,
   "metadata": {},
   "outputs": [],
   "source": [
    "mean_imputer = SimpleImputer(strategy = 'mean')\n",
    "X_processed = pd.DataFrame(mean_imputer.fit_transform(label_X))\n",
    "X_processed.columns = label_X.columns\n",
    "X_test_processed = pd.DataFrame(mean_imputer.transform(label_X_test))\n",
    "X_test_processed.columns = label_X_test.columns"
   ]
  },
  {
   "cell_type": "code",
   "execution_count": null,
   "metadata": {},
   "outputs": [],
   "source": [
    "X_train, X_val, y_train, y_val = train_test_split(X_processed, y, train_size=0.8,\n",
    "                                                  test_size=0.2)\n",
    "RF_model = RandomForestRegressor(n_estimators=100)\n",
    "RF_model.fit(X_train, y_train)\n",
    "preds = RF_model.predict(X_val)\n",
    "mae = mean_absolute_error(preds, y_val)\n",
    "print('mae = ', mae)"
   ]
  },
  {
   "cell_type": "code",
   "execution_count": null,
   "metadata": {},
   "outputs": [],
   "source": [
    "preds_test = RF_model.predict(X_test_processed)\n",
    "output = pd.DataFrame({'Id': X_test.index,\n",
    "                       'SalePrice': preds_test})\n",
    "output.to_csv('submission.csv', index=False)"
   ]
  },
  {
   "cell_type": "code",
   "execution_count": null,
   "metadata": {},
   "outputs": [],
   "source": [
    "X_train.to_excel('X_train.xlsx')"
   ]
  },
  {
   "cell_type": "code",
   "execution_count": null,
   "metadata": {},
   "outputs": [],
   "source": [
    "X_test_processed.to_excel('X_test_processed.xlsx')"
   ]
  },
  {
   "cell_type": "code",
   "execution_count": null,
   "metadata": {},
   "outputs": [],
   "source": []
  }
 ],
 "metadata": {
  "kernelspec": {
   "display_name": "Python 3",
   "language": "python",
   "name": "python3"
  },
  "language_info": {
   "codemirror_mode": {
    "name": "ipython",
    "version": 3
   },
   "file_extension": ".py",
   "mimetype": "text/x-python",
   "name": "python",
   "nbconvert_exporter": "python",
   "pygments_lexer": "ipython3",
   "version": "3.8.3"
  }
 },
 "nbformat": 4,
 "nbformat_minor": 4
}
